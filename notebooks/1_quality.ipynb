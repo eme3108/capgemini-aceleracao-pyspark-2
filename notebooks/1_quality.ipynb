{
 "cells": [
  {
   "cell_type": "code",
   "execution_count": 1,
   "metadata": {},
   "outputs": [
    {
     "name": "stdout",
     "output_type": "stream",
     "text": [
      "Requirement already satisfied: pyspark in c:\\users\\macalbuq\\anaconda3\\lib\\site-packages (3.2.1)\n",
      "Requirement already satisfied: py4j==0.10.9.3 in c:\\users\\macalbuq\\anaconda3\\lib\\site-packages (from pyspark) (0.10.9.3)\n",
      "Requirement already satisfied: findspark in c:\\users\\macalbuq\\anaconda3\\lib\\site-packages (2.0.1)\n"
     ]
    }
   ],
   "source": [
    "!pip install pyspark\n",
    "!pip install findspark"
   ]
  },
  {
   "cell_type": "code",
   "execution_count": 2,
   "metadata": {},
   "outputs": [],
   "source": [
    "import findspark\n",
    "from pyspark import SparkContext, SparkConf\n",
    "from pyspark.sql import SparkSession\n",
    "from pyspark.sql.functions import col, expr, when\n",
    "from pyspark.sql import functions as F\n",
    "from pyspark.sql.types import StructType, StructField, StringType, IntegerType, FloatType\n",
    "findspark.init()"
   ]
  },
  {
   "cell_type": "code",
   "execution_count": 3,
   "metadata": {},
   "outputs": [],
   "source": [
    "# Creating a spark context class\n",
    "sc = SparkContext()\n",
    "\n",
    "# Creating a spark session\n",
    "spark = (SparkSession.builder\n",
    "                     .appName(\"Python Spark DataFrames basic example\")\n",
    "                     .config(\"spark.some.config.option\", \"some-value\")\n",
    "                     .getOrCreate())"
   ]
  },
  {
   "cell_type": "code",
   "execution_count": 4,
   "metadata": {},
   "outputs": [
    {
     "ename": "AnalysisException",
     "evalue": "Path does not exist: file:/C:/Users/macalbuq/airports.csv",
     "output_type": "error",
     "traceback": [
      "\u001b[1;31m---------------------------------------------------------------------------\u001b[0m",
      "\u001b[1;31mAnalysisException\u001b[0m                         Traceback (most recent call last)",
      "\u001b[1;32m~\\AppData\\Local\\Temp/ipykernel_17776/3271084860.py\u001b[0m in \u001b[0;36m<module>\u001b[1;34m\u001b[0m\n\u001b[0;32m      9\u001b[0m ])\n\u001b[0;32m     10\u001b[0m \u001b[1;33m\u001b[0m\u001b[0m\n\u001b[1;32m---> 11\u001b[1;33m df_airport = (spark.read.schema(airport_schema)\n\u001b[0m\u001b[0;32m     12\u001b[0m                        \u001b[1;33m.\u001b[0m\u001b[0moption\u001b[0m\u001b[1;33m(\u001b[0m\u001b[1;34m'header'\u001b[0m\u001b[1;33m,\u001b[0m \u001b[1;34m'true'\u001b[0m\u001b[1;33m)\u001b[0m\u001b[1;33m\u001b[0m\u001b[1;33m\u001b[0m\u001b[0m\n\u001b[0;32m     13\u001b[0m                        .csv('airports.csv'))\n",
      "\u001b[1;32m~\\Anaconda3\\lib\\site-packages\\pyspark\\sql\\readwriter.py\u001b[0m in \u001b[0;36mcsv\u001b[1;34m(self, path, schema, sep, encoding, quote, escape, comment, header, inferSchema, ignoreLeadingWhiteSpace, ignoreTrailingWhiteSpace, nullValue, nanValue, positiveInf, negativeInf, dateFormat, timestampFormat, maxColumns, maxCharsPerColumn, maxMalformedLogPerPartition, mode, columnNameOfCorruptRecord, multiLine, charToEscapeQuoteEscaping, samplingRatio, enforceSchema, emptyValue, locale, lineSep, pathGlobFilter, recursiveFileLookup, modifiedBefore, modifiedAfter, unescapedQuoteHandling)\u001b[0m\n\u001b[0;32m    408\u001b[0m             \u001b[0mpath\u001b[0m \u001b[1;33m=\u001b[0m \u001b[1;33m[\u001b[0m\u001b[0mpath\u001b[0m\u001b[1;33m]\u001b[0m\u001b[1;33m\u001b[0m\u001b[1;33m\u001b[0m\u001b[0m\n\u001b[0;32m    409\u001b[0m         \u001b[1;32mif\u001b[0m \u001b[0mtype\u001b[0m\u001b[1;33m(\u001b[0m\u001b[0mpath\u001b[0m\u001b[1;33m)\u001b[0m \u001b[1;33m==\u001b[0m \u001b[0mlist\u001b[0m\u001b[1;33m:\u001b[0m\u001b[1;33m\u001b[0m\u001b[1;33m\u001b[0m\u001b[0m\n\u001b[1;32m--> 410\u001b[1;33m             \u001b[1;32mreturn\u001b[0m \u001b[0mself\u001b[0m\u001b[1;33m.\u001b[0m\u001b[0m_df\u001b[0m\u001b[1;33m(\u001b[0m\u001b[0mself\u001b[0m\u001b[1;33m.\u001b[0m\u001b[0m_jreader\u001b[0m\u001b[1;33m.\u001b[0m\u001b[0mcsv\u001b[0m\u001b[1;33m(\u001b[0m\u001b[0mself\u001b[0m\u001b[1;33m.\u001b[0m\u001b[0m_spark\u001b[0m\u001b[1;33m.\u001b[0m\u001b[0m_sc\u001b[0m\u001b[1;33m.\u001b[0m\u001b[0m_jvm\u001b[0m\u001b[1;33m.\u001b[0m\u001b[0mPythonUtils\u001b[0m\u001b[1;33m.\u001b[0m\u001b[0mtoSeq\u001b[0m\u001b[1;33m(\u001b[0m\u001b[0mpath\u001b[0m\u001b[1;33m)\u001b[0m\u001b[1;33m)\u001b[0m\u001b[1;33m)\u001b[0m\u001b[1;33m\u001b[0m\u001b[1;33m\u001b[0m\u001b[0m\n\u001b[0m\u001b[0;32m    411\u001b[0m         \u001b[1;32melif\u001b[0m \u001b[0misinstance\u001b[0m\u001b[1;33m(\u001b[0m\u001b[0mpath\u001b[0m\u001b[1;33m,\u001b[0m \u001b[0mRDD\u001b[0m\u001b[1;33m)\u001b[0m\u001b[1;33m:\u001b[0m\u001b[1;33m\u001b[0m\u001b[1;33m\u001b[0m\u001b[0m\n\u001b[0;32m    412\u001b[0m             \u001b[1;32mdef\u001b[0m \u001b[0mfunc\u001b[0m\u001b[1;33m(\u001b[0m\u001b[0miterator\u001b[0m\u001b[1;33m)\u001b[0m\u001b[1;33m:\u001b[0m\u001b[1;33m\u001b[0m\u001b[1;33m\u001b[0m\u001b[0m\n",
      "\u001b[1;32m~\\Anaconda3\\lib\\site-packages\\py4j\\java_gateway.py\u001b[0m in \u001b[0;36m__call__\u001b[1;34m(self, *args)\u001b[0m\n\u001b[0;32m   1319\u001b[0m \u001b[1;33m\u001b[0m\u001b[0m\n\u001b[0;32m   1320\u001b[0m         \u001b[0manswer\u001b[0m \u001b[1;33m=\u001b[0m \u001b[0mself\u001b[0m\u001b[1;33m.\u001b[0m\u001b[0mgateway_client\u001b[0m\u001b[1;33m.\u001b[0m\u001b[0msend_command\u001b[0m\u001b[1;33m(\u001b[0m\u001b[0mcommand\u001b[0m\u001b[1;33m)\u001b[0m\u001b[1;33m\u001b[0m\u001b[1;33m\u001b[0m\u001b[0m\n\u001b[1;32m-> 1321\u001b[1;33m         return_value = get_return_value(\n\u001b[0m\u001b[0;32m   1322\u001b[0m             answer, self.gateway_client, self.target_id, self.name)\n\u001b[0;32m   1323\u001b[0m \u001b[1;33m\u001b[0m\u001b[0m\n",
      "\u001b[1;32m~\\Anaconda3\\lib\\site-packages\\pyspark\\sql\\utils.py\u001b[0m in \u001b[0;36mdeco\u001b[1;34m(*a, **kw)\u001b[0m\n\u001b[0;32m    115\u001b[0m                 \u001b[1;31m# Hide where the exception came from that shows a non-Pythonic\u001b[0m\u001b[1;33m\u001b[0m\u001b[1;33m\u001b[0m\u001b[0m\n\u001b[0;32m    116\u001b[0m                 \u001b[1;31m# JVM exception message.\u001b[0m\u001b[1;33m\u001b[0m\u001b[1;33m\u001b[0m\u001b[0m\n\u001b[1;32m--> 117\u001b[1;33m                 \u001b[1;32mraise\u001b[0m \u001b[0mconverted\u001b[0m \u001b[1;32mfrom\u001b[0m \u001b[1;32mNone\u001b[0m\u001b[1;33m\u001b[0m\u001b[1;33m\u001b[0m\u001b[0m\n\u001b[0m\u001b[0;32m    118\u001b[0m             \u001b[1;32melse\u001b[0m\u001b[1;33m:\u001b[0m\u001b[1;33m\u001b[0m\u001b[1;33m\u001b[0m\u001b[0m\n\u001b[0;32m    119\u001b[0m                 \u001b[1;32mraise\u001b[0m\u001b[1;33m\u001b[0m\u001b[1;33m\u001b[0m\u001b[0m\n",
      "\u001b[1;31mAnalysisException\u001b[0m: Path does not exist: file:/C:/Users/macalbuq/airports.csv"
     ]
    }
   ],
   "source": [
    "airport_schema = StructType([\n",
    "    StructField('faa', StringType(), True),\n",
    "    StructField('name', StringType(), True),\n",
    "    StructField('lat', FloatType(), True),\n",
    "    StructField('lon', FloatType(), True),\n",
    "    StructField('alt', IntegerType(), True),\n",
    "    StructField('tz', FloatType(), True),\n",
    "    StructField('dst', StringType(), True)\n",
    "])\n",
    "\n",
    "df_airport = (spark.read.schema(airport_schema)\n",
    "                       .option('header', 'true')\n",
    "                       .csv('airports.csv'))\n",
    "\n",
    "df_airport.printSchema()"
   ]
  },
  {
   "cell_type": "code",
   "execution_count": null,
   "metadata": {},
   "outputs": [],
   "source": [
    "# Criar o restante das linhas depois para testar todas as regras;\n",
    "def rows_for_test(df):\n",
    "    vals = [\n",
    "        (None, None, None, None, None, None, None),\n",
    "        ('', '', '', '', '', '', ''),\n",
    "        ('AAA', None, None, '-80.Aa6195833', '1044Aa'),\n",
    "    ]\n",
    "\n",
    "    new_rows = spark.createDataFrame(vals, df.columns)\n",
    "\n",
    "    df = df.union(new_rows)\n",
    "    \n",
    "    return df\n",
    "\n",
    "df_airport = rows_for_test(df_airport)"
   ]
  },
  {
   "cell_type": "markdown",
   "metadata": {},
   "source": [
    "### Airport - Perguntas"
   ]
  },
  {
   "cell_type": "markdown",
   "metadata": {},
   "source": [
    "#### Pergunta 1"
   ]
  },
  {
   "cell_type": "code",
   "execution_count": null,
   "metadata": {},
   "outputs": [],
   "source": [
    "df_airport = df_airport.withColumn(\"qa_faa\", (\n",
    "               F.when(\n",
    "                     (F.col('faa').isNull()) |\n",
    "                     (F.col('faa') == '') |\n",
    "                     (F.col('faa').rlike('\\t') |\n",
    "                     (F.col('faa').rlike(' +'))), 'M')\n",
    "                .when(\n",
    "                     (F.length(F.col('faa')) < 3) & \n",
    "                     (F.length(F.col('faa')) > 5) &\n",
    "                     ((F.col('faa').rlike('^[a-zA-Z ]*$')) | (F.col('faa').rlike('\\d*$'))), 'F')\n",
    "                ))\n",
    "\n",
    "df_airport.show(5)"
   ]
  },
  {
   "cell_type": "markdown",
   "metadata": {},
   "source": [
    "#### Pergunta 2"
   ]
  },
  {
   "cell_type": "code",
   "execution_count": null,
   "metadata": {},
   "outputs": [],
   "source": [
    "qa_name_column = F.when((F.col('name').isNull()) | (F.col('name') == ''), 'M')\n",
    "\n",
    "df_airport = df_airport.withColumn('qa_name', qa_name_column)\n",
    "    \n",
    "df_airport.show(5)"
   ]
  },
  {
   "cell_type": "markdown",
   "metadata": {},
   "source": [
    "#### Pergunta 3"
   ]
  },
  {
   "cell_type": "code",
   "execution_count": null,
   "metadata": {},
   "outputs": [],
   "source": [
    "qa_lat_F.column = (F.when(\n",
    "                    (F.col('lat').isNull()) | \n",
    "                    (F.col('lat') == ''), 'M')\n",
    "                .when(\n",
    "                    (F.col('lat') <= -180) | \n",
    "                    (F.col('lat') >= 180), 'I')\n",
    "                .when(\n",
    "                    F.col('lat').rlike('/^\\w*?[a-zA-Z]\\w*$/'), 'A'))\n",
    "\n",
    "df_airport = df_airport.withF.column('qa_lat', qa_lat_F.column)\n",
    "\n",
    "df_airport.show(5)"
   ]
  },
  {
   "cell_type": "markdown",
   "metadata": {},
   "source": [
    "#### Pergunta 4"
   ]
  },
  {
   "cell_type": "code",
   "execution_count": null,
   "metadata": {},
   "outputs": [],
   "source": [
    "qa_lon_column = (F.when(\n",
    "                    (F.col('lon').isNull()) | \n",
    "                    (F.col('lon') == ''), 'M')\n",
    "                .when(\n",
    "                    (F.col('lon') <= -180) | \n",
    "                    (F.col('lon') >= 180), 'I')\n",
    "                .when(\n",
    "                    col('lon').rlike('/^\\w*?[a-zA-Z]\\w*$/'), 'A'))\n",
    "\n",
    "df_airport = df_airport.withColumn('qa_lon', qa_lon_column)\n",
    "\n",
    "df_airport.show(5)"
   ]
  },
  {
   "cell_type": "markdown",
   "metadata": {},
   "source": [
    "#### Pergunta 5"
   ]
  },
  {
   "cell_type": "code",
   "execution_count": null,
   "metadata": {},
   "outputs": [],
   "source": [
    "qa_alt_column = (F.when(\n",
    "                    (F.col('alt').isNull()) | \n",
    "                    (F.col('alt') == ''), 'M')\n",
    "                .when(\n",
    "                    col('alt') < 0, 'I')\n",
    "                .when(\n",
    "                    col('alt').rlike('/^\\w*?[a-zA-Z]\\w*$/'), 'A'))\n",
    "\n",
    "df_airport = df_airport.withColumn('qa_alt', qa_alt_column)\n",
    "\n",
    "df_airport.show(5)"
   ]
  },
  {
   "cell_type": "markdown",
   "metadata": {},
   "source": [
    "#### Pergunta 6"
   ]
  },
  {
   "cell_type": "code",
   "execution_count": null,
   "metadata": {},
   "outputs": [],
   "source": [
    "qa_tz_column = (F.when(\n",
    "                    (F.col('tz').isNull()) | \n",
    "                    (F.col('tz') == ''), 'M')\n",
    "                .when(\n",
    "                    (F.col('tz') < -11) | \n",
    "                    (F.col('tz') > 14), 'I')\n",
    "                .when(\n",
    "                    col('tz').rlike('/^\\w*?[a-zA-Z]\\w*$/'), 'A'))\n",
    "\n",
    "df_airport = df_airport.withColumn('qa_tz', qa_tz_column)\n",
    "\n",
    "df_airport.show(5)"
   ]
  },
  {
   "cell_type": "markdown",
   "metadata": {},
   "source": [
    "#### Pergunta 7"
   ]
  },
  {
   "cell_type": "code",
   "execution_count": null,
   "metadata": {},
   "outputs": [],
   "source": [
    "category_list = ['E', 'A', 'S', 'O', 'Z', 'N', 'U']\n",
    "qa_dst_column = (F.when(\n",
    "                    (F.col('dst').isNull()) | \n",
    "                    (F.col('dst') == ''), 'M')\n",
    "                .when(\n",
    "                    col('dst').isin(category_list) == False, 'C')\n",
    "                .when(\n",
    "                    col('dst').rlike('^[0-9]*$'), 'A'))\n",
    "\n",
    "df_airport = df_airport.withColumn('qa_dst', qa_dst_column)\n",
    "\n",
    "df_airport.show(5)"
   ]
  },
  {
   "cell_type": "markdown",
   "metadata": {},
   "source": [
    "# Planes - Perguntas"
   ]
  },
  {
   "cell_type": "code",
   "execution_count": null,
   "metadata": {},
   "outputs": [],
   "source": [
    "schema_types = StructType([\n",
    "    StructField('tailnum', StringType(), True),\n",
    "    StructField('year', IntegerType(), True),\n",
    "    StructField('type', StringType(), True),\n",
    "    StructField('manufacturer', StringType(), True),\n",
    "    StructField('model', StringType(), True),\n",
    "    StructField('engines', IntegerType(), True),\n",
    "    StructField('seats', IntegerType(), True),\n",
    "    StructField('speed', IntegerType(), True),\n",
    "    StructField('engine', StringType(), True)\n",
    "])\n",
    "\n",
    "df_planes = (spark.read.schema(schema_types)\n",
    "                       .option('header', 'true')\n",
    "                       .csv('planes.csv'))\n",
    "\n",
    "df_planes.printSchema()"
   ]
  },
  {
   "cell_type": "markdown",
   "metadata": {},
   "source": [
    "#### Pergunta 1"
   ]
  },
  {
   "cell_type": "code",
   "execution_count": null,
   "metadata": {},
   "outputs": [],
   "source": [
    "invalid_characters_list = ['I', 'O', 0]\n",
    "qa_tailnum_column = (F.when(\n",
    "                        (F.col('tailnum').isNull()) | \n",
    "                        (F.col('tailnum') == ''), 'M')\n",
    "                    .when(\n",
    "                        F.length(F.col('tailnum')) != 5, 'S')\n",
    "                    .when(\n",
    "                        col('tailnum').rlike('^[0-9]*$'), 'A')\n",
    "                    .when(\n",
    "                        (F.col('tailnum').substr(1, 1) != 'N') & (F.col('tailnum').substr(-1, -1) != 'Z'), 'FN')\n",
    "                    .when(\n",
    "                        col('tailnum').substr(1, 1).isin(invalid_characters_list), 'FE'))\n",
    "\n",
    "\n",
    "df_planes = df_planes.withColumn('qa_tailnum', qa_tailnum_column)\n",
    "\n",
    "df_planes.show(5)"
   ]
  },
  {
   "cell_type": "markdown",
   "metadata": {},
   "source": [
    "#### Pergunta 2"
   ]
  },
  {
   "cell_type": "code",
   "execution_count": null,
   "metadata": {},
   "outputs": [],
   "source": [
    "qa_year_column = (F.when(\n",
    "                    (F.col('year').isNull()) | \n",
    "                    (F.col('year') == ''), 'M')\n",
    "                  .when(\n",
    "                    col('year') < 1950, 'I'))\n",
    "\n",
    "df_planes = df_planes.withColumn('qa_year', qa_year_column)\n",
    "\n",
    "df_planes.show(5)"
   ]
  },
  {
   "cell_type": "markdown",
   "metadata": {},
   "source": [
    "#### Pergunta 3"
   ]
  },
  {
   "cell_type": "code",
   "execution_count": null,
   "metadata": {},
   "outputs": [],
   "source": [
    "categorys_list = [\n",
    "    'Fixed wing multi engine',\n",
    "    'Fixed wing single engine',\n",
    "    'Rotorcraft'\n",
    "]\n",
    "\n",
    "qa_type_column = (F.when(\n",
    "                    (F.col('type').isNull()) | \n",
    "                    (F.col('type') == ''), 'M')\n",
    "                 .when(\n",
    "                    col('type').isin(categorys_list) == False, 'C'))\n",
    "\n",
    "df = df_planes.withColumn('qa_type', qa_type_column)\n",
    "\n",
    "\n",
    "df_planes.show(5)"
   ]
  },
  {
   "cell_type": "markdown",
   "metadata": {},
   "source": [
    "#### Pergunta 4"
   ]
  },
  {
   "cell_type": "code",
   "execution_count": null,
   "metadata": {},
   "outputs": [],
   "source": [
    "categorys_list = [\n",
    "    'AIRBUS',\n",
    "    'AIRBUS INDUSTRIE',\n",
    "    'BOEING',\n",
    "    'BOMBARDIER',\n",
    "    'CESSNA',\n",
    "    'EMBRAER',\n",
    "    'SIKORSKY',\n",
    "    'CANADAIR',\n",
    "    'PIPER',\n",
    "    'MCDONNELL DOUGLAS',\n",
    "    'CIRRUS',\n",
    "    'BELL',\n",
    "    'KILDALL GARY',\n",
    "    'LAMBERT RICHARD',\n",
    "    'BARKER JACK',\n",
    "    'ROBINSON HELICOPTER',\n",
    "    'GULFSTREAM',\n",
    "    'MARZ BARRY'\n",
    "]\n",
    "\n",
    "qa_manufacturer_column = (F.when(\n",
    "                            (F.col('manufacturer').isNull()) | \n",
    "                            (F.col('manufacturer') == ''), 'M')\n",
    "                         .when(\n",
    "                            col('manufacturer').isin(categorys_list) == False, 'C'))\n",
    "\n",
    "df_planes = df_planes.withColumn('qa_manufacturer', qa_manufacturer_column)\n",
    "\n",
    "df_planes.show(5)"
   ]
  },
  {
   "cell_type": "markdown",
   "metadata": {},
   "source": [
    "#### Pergunta 5"
   ]
  },
  {
   "cell_type": "code",
   "execution_count": null,
   "metadata": {},
   "outputs": [],
   "source": [
    "qa_model_column = (F.when(\n",
    "                    (F.col('model').isNull()) | \n",
    "                    (F.col('model') == ''), 'M')\n",
    "                  .when(\n",
    "                    (F.col('manufacturer').contains('AIRBUS')) &\n",
    "                    (F.col('model').substr(1, 1) != 'A'), 'F')\n",
    "                  .when(\n",
    "                    (F.col('manufacturer').contains('BOEING')) &\n",
    "                    (F.col('model').substr(1, 1) != '7'), 'F')\n",
    "                  .when(\n",
    "                    (F.col('manufacturer').contains('BOMBARDIER')) | \n",
    "                    (F.col('manufacturer').contains('CANADAIR')) & \n",
    "                    (F.col('model').substr(1, 2) != 'CL'), 'F')\n",
    "                  .when(\n",
    "                    (F.col('manufacturer').contains('MCDONNELL DOUGLAS')) & \n",
    "                    ((F.col('model').substr(1, 2) != 'MD') | (F.col('model').substr(1, 2) != 'DC')), 'F'))\n",
    "\n",
    "\n",
    "df_planes = df_planes.withColumn('qa_model', qa_model_column)\n",
    "\n",
    "df_planes.show(5)"
   ]
  },
  {
   "cell_type": "markdown",
   "metadata": {},
   "source": [
    "#### Pergunta 6"
   ]
  },
  {
   "cell_type": "code",
   "execution_count": null,
   "metadata": {},
   "outputs": [],
   "source": [
    "qa_engines_column = (F.when(\n",
    "                        (F.col('engines').isNull()) | \n",
    "                        (F.col('engines') == ''), 'M')\n",
    "                    .when(\n",
    "                        (F.col('engines') < 1) & (F.col('engines') > 4), 'I')\n",
    "                    .when(\n",
    "                        col('engines').rlike('/^\\w*?[a-zA-Z]\\w*$/'), 'A'))\n",
    "\n",
    "\n",
    "df_planes = df_planes.withColumn('qa_engines', qa_engines_column)\n",
    "\n",
    "df_planes.show(5)"
   ]
  },
  {
   "cell_type": "markdown",
   "metadata": {},
   "source": [
    "#### Pergunta 7"
   ]
  },
  {
   "cell_type": "code",
   "execution_count": null,
   "metadata": {},
   "outputs": [],
   "source": [
    "qa_seats_column = (F.when(\n",
    "                    (F.col('seats').isNull()) | \n",
    "                    (F.col('seats') == ''), 'M')\n",
    "                .when(\n",
    "                    (F.col('seats') < 2) & (F.col('engines') > 500), 'I')\n",
    "                .when(\n",
    "                    col('seats').rlike('/^\\w*?[a-zA-Z]\\w*$/'), 'A'))\n",
    "\n",
    "df_planes = df_planes.withColumn('qa_seats', qa_seats_column)\n",
    "\n",
    "df_planes.show(5)"
   ]
  },
  {
   "cell_type": "markdown",
   "metadata": {},
   "source": [
    "#### Pergunta 8"
   ]
  },
  {
   "cell_type": "code",
   "execution_count": null,
   "metadata": {},
   "outputs": [],
   "source": [
    "qa_speed_column = (F.when(\n",
    "                    (F.col('speed').isNull()) | \n",
    "                    (F.col('speed') == ''), 'M')\n",
    "                .when(\n",
    "                    (F.col('speed') < 50) & (F.col('speed') > 150), 'I')\n",
    "                .when(\n",
    "                    col('speed').rlike('/^\\w*?[a-zA-Z]\\w*$/'), 'A'))\n",
    "\n",
    "df_planes = df_planes.withColumn('qa_speed', qa_speed_column)\n",
    "\n",
    "df_planes.show(5)"
   ]
  },
  {
   "cell_type": "markdown",
   "metadata": {},
   "source": [
    "#### Pergunta 9"
   ]
  },
  {
   "cell_type": "code",
   "execution_count": null,
   "metadata": {},
   "outputs": [],
   "source": [
    "category_list = [\n",
    "    'Turbo-fan',\n",
    "    'Turbo-jet',\n",
    "    'Turbo-prop',\n",
    "    'Turbo-shaft',\n",
    "    '4 Cycle'\n",
    "]\n",
    "qa_engine_column = (F.when(\n",
    "                      (F.col('engine').isNull()) | \n",
    "                      (F.col('engine') == ''), 'M')\n",
    "                  .when(\n",
    "                      col('engine').isin(category_list) == False, 'C'))\n",
    "\n",
    "df_planes = df_planes.withColumn('qa_engine', qa_engine_column)\n",
    "\n",
    "df_planes.show(5)"
   ]
  },
  {
   "cell_type": "markdown",
   "metadata": {},
   "source": [
    "# Flights - Perguntas"
   ]
  },
  {
   "cell_type": "code",
   "execution_count": null,
   "metadata": {},
   "outputs": [],
   "source": [
    "flights_schema = StructType([\n",
    "    StructField('year', IntegerType(), True),\n",
    "    StructField('month', IntegerType(), True),\n",
    "    StructField('day', IntegerType(), True),\n",
    "    StructField('hour', IntegerType(), True),\n",
    "    StructField('minute', IntegerType(), True),\n",
    "    StructField('dep_time', StringType(), True),\n",
    "    StructField('arr_time', StringType(), True),\n",
    "    StructField('dep_delay', IntegerType(), True),\n",
    "    StructField('arr_delay', IntegerType(), True),\n",
    "    StructField('carrier', StringType(), True),\n",
    "    StructField('tailnum', StringType(), True),\n",
    "    StructField('flight', StringType(), True),\n",
    "    StructField('origin', StringType(), True),\n",
    "    StructField('dest', StringType(), True),\n",
    "    StructField('air_time', FloatType(), True),\n",
    "    StructField('distance', FloatType(), True),\n",
    "])\n",
    "\n",
    "df_flights = (spark.read.schema(flights_schema)\n",
    "                       .option('header', 'true')\n",
    "                       .csv('flights.csv'))\n",
    "\n",
    "df_flights.printSchema()\n",
    "df_flights.show()"
   ]
  },
  {
   "cell_type": "markdown",
   "metadata": {},
   "source": [
    "#### Pergunta 1"
   ]
  },
  {
   "cell_type": "code",
   "execution_count": null,
   "metadata": {},
   "outputs": [],
   "source": [
    "qa_year_month_day_column = (F.when(\n",
    "                      (F.col('year').isNull()) | \n",
    "                      (F.col('year') == ''), 'MY')\n",
    "                  .when(\n",
    "                      (F.col('month').isNull()) | \n",
    "                      (F.col('month') == ''), 'MM')\n",
    "                  .when(\n",
    "                      (F.col('day').isNull()) | \n",
    "                      (F.col('day') == ''), 'MD')\n",
    "                  .when(\n",
    "                      col('year') < 1950, 'IY')\n",
    "                  .when(\n",
    "                      (F.col('month') < 1) | \n",
    "                      (F.col('month') > 12), 'IM')\n",
    "                  .when(\n",
    "                      (F.col('month') != 2) &\n",
    "                      (F.col('day') < 1) |\n",
    "                      (F.col('day') > 31), 'ID')\n",
    "                  .when(\n",
    "                      (F.col('month') == 2) &\n",
    "                      (F.col('day') < 1) |\n",
    "                      (F.col('day') > 29), 'ID'))\n",
    "\n",
    "df_flights = df_flights.withColumn('qa_year_month_day', qa_year_month_day_column)\n",
    "\n",
    "df_flights.show(5)"
   ]
  },
  {
   "cell_type": "markdown",
   "metadata": {},
   "source": [
    "#### Pergunta 2"
   ]
  },
  {
   "cell_type": "code",
   "execution_count": null,
   "metadata": {},
   "outputs": [],
   "source": [
    "qa_hour_minute_column = (F.when(\n",
    "                            (F.col('hour').isNull()) | \n",
    "                            (F.col('hour') == ''), 'MH')\n",
    "                        .when(\n",
    "                            (F.col('minute').isNull()) | \n",
    "                            (F.col('minute') == ''), 'MM')\n",
    "                        .when(\n",
    "                            ((F.length(F.col('hour')) == 3) & ((F.col('hour').substr(1,1) < 0) | (F.col('hour').substr(1,1) > 24))) |\n",
    "                            ((F.length(F.col('hour')) == 4) & ((F.col('hour').substr(1,2) < 0) | (F.col('hour').substr(1,2) > 24))), 'IH')\n",
    "                        .when(\n",
    "                            ((F.length(F.col('minute')) == 3) & ((F.col('hour').substr(2,3) < 0) | (F.col('hour').substr(2,3) > 59))) |\n",
    "                            ((F.length(F.col('minute')) == 4) & ((F.col('hour').substr(3,4) < 0) | (F.col('hour').substr(3,4) > 59))), 'IM'))\n",
    "\n",
    "df_flights = df_flights.withColumn('qa_hour_minute', qa_hour_minute_column)\n",
    "\n",
    "df_flights.show(5)"
   ]
  },
  {
   "cell_type": "markdown",
   "metadata": {},
   "source": [
    "#### Pergunta 3"
   ]
  },
  {
   "cell_type": "code",
   "execution_count": null,
   "metadata": {},
   "outputs": [],
   "source": [
    "qa_dep_arr_time_column = (F.when(\n",
    "                            (F.col('dep_time').isNull()) | \n",
    "                            (F.col('dep_time') == ''), 'MD')\n",
    "                         .when(\n",
    "                            (F.col('arr_time').isNull()) | \n",
    "                            (F.col('arr_time') == ''), 'MA')\n",
    "                         .when(\n",
    "                            (F.col('dep_time').rlike('^([0-1]?[0-9]|2[0-3])[0-5][0-9]$') == False), 'FD')\n",
    "                         .when(\n",
    "                            (F.col('arr_time').rlike('^([0-1]?[0-9]|2[0-3])[0-5][0-9]$') == False), 'FA'))\n",
    "\n",
    "df_flights = df_flights.withColumn('qa_dep_arr_time', qa_dep_arr_time_column)\n",
    "\n",
    "df_flights.show(5)"
   ]
  },
  {
   "cell_type": "markdown",
   "metadata": {},
   "source": [
    "#### Pergunta 4"
   ]
  },
  {
   "cell_type": "code",
   "execution_count": null,
   "metadata": {},
   "outputs": [],
   "source": [
    "qa_dep_arr_delay_column = (F.when(\n",
    "                              (F.col('dep_delay').isNull()) | \n",
    "                              (F.col('dep_delay') == ''), 'MD')\n",
    "                          .when(\n",
    "                              (F.col('arr_delay').isNull()) | \n",
    "                              (F.col('arr_delay') == ''), 'MA'))\n",
    "\n",
    "df_flights = df_flights.withColumn('qa_dep_arr_delay', qa_dep_arr_time_column)\n",
    "\n",
    "\n",
    "df_flights.show(5)"
   ]
  },
  {
   "cell_type": "markdown",
   "metadata": {},
   "source": [
    "#### Pergunta 5"
   ]
  },
  {
   "cell_type": "code",
   "execution_count": null,
   "metadata": {},
   "outputs": [],
   "source": [
    "qa_carrier_column = (F.when(\n",
    "                      (F.col('carrier').isNull()) | \n",
    "                      (F.col('carrier') == ''), 'M')\n",
    "                    .when(\n",
    "                      (F.col('carrier').rlike('/^\\w*?[a-zA-Z]\\w*$/') == False) &\n",
    "                      (F.length(F.col('tailnum')) != 2), 'F'))\n",
    "\n",
    "df_flights = df_flights.withColumn('qa_carrier', qa_carrier_column)\n",
    "\n",
    "df_flights.show(5)"
   ]
  },
  {
   "cell_type": "markdown",
   "metadata": {},
   "source": [
    "#### Pergunta 6"
   ]
  },
  {
   "cell_type": "code",
   "execution_count": null,
   "metadata": {},
   "outputs": [],
   "source": [
    "invalid_characters_list = ['I', 'O', 0]\n",
    "qa_tailnum_column = (F.when(\n",
    "                        (F.col('tailnum').isNull()) | \n",
    "                        (F.col('tailnum') == ''), 'M')\n",
    "                    .when(\n",
    "                        F.length(F.col('tailnum')) != 5, 'S')\n",
    "                    .when(\n",
    "                        col('tailnum').rlike('^[0-9]*$'), 'A')\n",
    "                    .when(\n",
    "                        (F.col('tailnum').substr(1, 1) != 'N') & (F.col('tailnum').substr(-1, -1) != 'Z'), 'FN')\n",
    "                    .when(\n",
    "                        col('tailnum').substr(1, 1).isin(invalid_characters_list), 'FE'))\n",
    "\n",
    "\n",
    "df_flights = df_flights.withColumn('qa_tailnum', qa_tailnum_column)\n",
    "\n",
    "df_flights.show(5)"
   ]
  },
  {
   "cell_type": "markdown",
   "metadata": {},
   "source": [
    "#### Pergunta 7"
   ]
  },
  {
   "cell_type": "code",
   "execution_count": null,
   "metadata": {},
   "outputs": [],
   "source": [
    "qa_flight_column = (F.when(\n",
    "                        (F.col('flight').isNull()) | \n",
    "                        (F.col('flight') == ''), 'M')\n",
    "                   .when(\n",
    "                        (F.length((F.col('flight')) != 4) & col('flight').rlike('^[0-9]*$') == False, 'F'))\n",
    "\n",
    "\n",
    "df_flights = df_flights.withColumn('qa_flight', qa_flight_column)\n",
    "\n",
    "df_flights.groupBy('qa_flight').agg(F.count('qa_flight')).show()"
   ]
  },
  {
   "cell_type": "markdown",
   "metadata": {},
   "source": [
    "#### Pergunta 8"
   ]
  },
  {
   "cell_type": "code",
   "execution_count": null,
   "metadata": {},
   "outputs": [],
   "source": [
    "qa_origin_dest_column = (F.when(\n",
    "                            (F.col('origin').isNull()) | \n",
    "                            (F.col('origin') == ''), 'M')\n",
    "                        .when(\n",
    "                            (F.col('dest').isNull()) | \n",
    "                            (F.col('dest') == ''), 'M')\n",
    "                        .when(\n",
    "                            (F.length(F.col('origin')) != 3) & col('origin').rlike('/^\\w*?[a-zA-Z]\\w*$/') == False, 'F')\n",
    "                        .when(\n",
    "                            (F.length(F.col('dest')) != 3) & (F.col('dest').rlike('/^\\w*?[a-zA-Z]\\w*$/')) == False, 'F')\n",
    "                        )\n",
    "\n",
    "df_flights = df_flights.withColumn('qa_origin_dest', qa_origin_dest_column)\n",
    "\n",
    "df_flights.show(5)"
   ]
  },
  {
   "cell_type": "markdown",
   "metadata": {},
   "source": [
    "#### Pergunta 9"
   ]
  },
  {
   "cell_type": "code",
   "execution_count": null,
   "metadata": {},
   "outputs": [],
   "source": [
    "qa_air_time_column = (F.when(\n",
    "                        (F.col('air_time').isNull()) | \n",
    "                        (F.col('air_time') == ''), 'M')\n",
    "                      .when(\n",
    "                        (F.col('air_time') < 20) & (F.col('air_time') > 500), 'I')\n",
    "                      )\n",
    "\n",
    "df_flights = df_flights.withColumn('qa_air_time', qa_air_time_column)\n",
    "\n",
    "df_flights.show(5)"
   ]
  },
  {
   "cell_type": "markdown",
   "metadata": {},
   "source": [
    "#### Pergunta 10"
   ]
  },
  {
   "cell_type": "code",
   "execution_count": null,
   "metadata": {},
   "outputs": [],
   "source": [
    "qa_distance_column = (F.when(\n",
    "                        (F.col('distance').isNull()) | \n",
    "                        (F.col('distance') == ''), 'M')\n",
    "                      .when(\n",
    "                        (F.col('distance') < 50) & (F.col('air_time') > 3000), 'I')\n",
    "                      )\n",
    "\n",
    "df_flights = df_flights.withColumn('qa_distance', qa_distance_column)\n",
    "\n",
    "df_flights.show(5)"
   ]
  },
  {
   "cell_type": "markdown",
   "metadata": {},
   "source": [
    "#### Pergunta 11"
   ]
  },
  {
   "cell_type": "code",
   "execution_count": null,
   "metadata": {},
   "outputs": [],
   "source": [
    "qa_distance_airtime_column = (F.when(\n",
    "                                (F.col('distance').isNull()) | \n",
    "                                (F.col('distance') == ''), 'M')\n",
    "                             .when(\n",
    "                                (F.col('air_time') >= (F.col('distance') * 0.1 + 30)), 'TL')\n",
    "                             .when(\n",
    "                                (F.col('air_time') <= (F.col('distance') * 0.1 + 10)), 'TS')\n",
    "                             .when(\n",
    "                                (F.col('air_time') <= (F.col('distance') * 0.1 + 30)) | \n",
    "                                (F.col('air_time') >= (F.col('distance') * 0.1 + 10)), 'TR')\n",
    "                              )\n",
    "\n",
    "df_flights = df_flights.withColumn('qa_distance_airtime', qa_distance_airtime_column)\n",
    "\n",
    "df_flights.show(5)"
   ]
  }
 ],
 "metadata": {
  "kernelspec": {
   "display_name": "Python 3 (ipykernel)",
   "language": "python",
   "name": "python3"
  },
  "language_info": {
   "codemirror_mode": {
    "name": "ipython",
    "version": 3
   },
   "file_extension": ".py",
   "mimetype": "text/x-python",
   "name": "python",
   "nbconvert_exporter": "python",
   "pygments_lexer": "ipython3",
   "version": "3.9.7"
  }
 },
 "nbformat": 4,
 "nbformat_minor": 4
}
